{
 "cells": [
  {
   "cell_type": "markdown",
   "source": [
    "# Imports"
   ],
   "metadata": {
    "collapsed": false
   },
   "id": "a35c597bd06ddcc5"
  },
  {
   "cell_type": "code",
   "execution_count": 1,
   "outputs": [],
   "source": [
    "import matplotlib.pyplot as plt\n",
    "import numpy as np\n",
    "import pandas as pd\n",
    "\n",
    "import torch\n",
    "import torch.nn as nn\n",
    "import torch.nn.functional as torch_nnf\n",
    "\n",
    "from typing import Union, Iterable\n",
    "from pathlib import Path\n",
    "from torch_geometric.nn.conv import MessagePassing\n",
    "from torch_geometric.utils import degree\n",
    "\n",
    "from tqdm.notebook import tqdm\n",
    "from sklearn.preprocessing import OneHotEncoder\n",
    "from sklearn.model_selection import train_test_split"
   ],
   "metadata": {
    "collapsed": true,
    "ExecuteTime": {
     "end_time": "2023-12-03T13:26:11.760914650Z",
     "start_time": "2023-12-03T13:26:08.983134546Z"
    }
   },
   "id": "initial_id"
  },
  {
   "cell_type": "markdown",
   "source": [
    "# Consts"
   ],
   "metadata": {
    "collapsed": false
   },
   "id": "b56cd03f511908ed"
  },
  {
   "cell_type": "code",
   "execution_count": 2,
   "outputs": [
    {
     "data": {
      "text/plain": "<torch._C.Generator at 0x7f5bf5b5a410>"
     },
     "execution_count": 2,
     "metadata": {},
     "output_type": "execute_result"
    }
   ],
   "source": [
    "RANDOM_STATE = 42\n",
    "TEST_RATIO = 0.2\n",
    "\n",
    "EPOCHS = 10\n",
    "BATCH_SIZE = 1024\n",
    "DECAY = 0.0001\n",
    "K = 20\n",
    "\n",
    "torch.manual_seed(RANDOM_STATE)"
   ],
   "metadata": {
    "collapsed": false,
    "ExecuteTime": {
     "end_time": "2023-12-03T13:26:11.806739890Z",
     "start_time": "2023-12-03T13:26:11.804577664Z"
    }
   },
   "id": "d6fc848e0a8ba3bb"
  },
  {
   "cell_type": "markdown",
   "source": [
    "# Data loading"
   ],
   "metadata": {
    "collapsed": false
   },
   "id": "e18bc0c2853c31d2"
  },
  {
   "cell_type": "code",
   "execution_count": 3,
   "outputs": [
    {
     "data": {
      "text/plain": "   user_id  item_id  rating            timestamp  age gender  occupation  \\\n0      196      242       3  1997-12-04 15:55:49   49      M      writer   \n1      305      242       5  1998-02-01 04:37:08   23      M  programmer   \n2        6      242       4  1997-12-28 00:16:10   42      M   executive   \n3      234      242       4  1998-03-27 21:14:21   60      M     retired   \n4       63      242       3  1997-10-01 23:06:30   31      M   marketing   \n\n  zip code   movie_title release date  ...  Horror Musical  Mystery  Romance  \\\n0    55105  Kolya (1996)  24-Jan-1997  ...       0       0        0        0   \n1    94086  Kolya (1996)  24-Jan-1997  ...       0       0        0        0   \n2    98101  Kolya (1996)  24-Jan-1997  ...       0       0        0        0   \n3    94702  Kolya (1996)  24-Jan-1997  ...       0       0        0        0   \n4    75240  Kolya (1996)  24-Jan-1997  ...       0       0        0        0   \n\n   Sci-Fi  Thriller  War  Western  user_id_new  item_id_new  \n0       0         0    0        0          195          241  \n1       0         0    0        0          304          241  \n2       0         0    0        0            5          241  \n3       0         0    0        0          233          241  \n4       0         0    0        0           62          241  \n\n[5 rows x 33 columns]",
      "text/html": "<div>\n<style scoped>\n    .dataframe tbody tr th:only-of-type {\n        vertical-align: middle;\n    }\n\n    .dataframe tbody tr th {\n        vertical-align: top;\n    }\n\n    .dataframe thead th {\n        text-align: right;\n    }\n</style>\n<table border=\"1\" class=\"dataframe\">\n  <thead>\n    <tr style=\"text-align: right;\">\n      <th></th>\n      <th>user_id</th>\n      <th>item_id</th>\n      <th>rating</th>\n      <th>timestamp</th>\n      <th>age</th>\n      <th>gender</th>\n      <th>occupation</th>\n      <th>zip code</th>\n      <th>movie_title</th>\n      <th>release date</th>\n      <th>...</th>\n      <th>Horror</th>\n      <th>Musical</th>\n      <th>Mystery</th>\n      <th>Romance</th>\n      <th>Sci-Fi</th>\n      <th>Thriller</th>\n      <th>War</th>\n      <th>Western</th>\n      <th>user_id_new</th>\n      <th>item_id_new</th>\n    </tr>\n  </thead>\n  <tbody>\n    <tr>\n      <th>0</th>\n      <td>196</td>\n      <td>242</td>\n      <td>3</td>\n      <td>1997-12-04 15:55:49</td>\n      <td>49</td>\n      <td>M</td>\n      <td>writer</td>\n      <td>55105</td>\n      <td>Kolya (1996)</td>\n      <td>24-Jan-1997</td>\n      <td>...</td>\n      <td>0</td>\n      <td>0</td>\n      <td>0</td>\n      <td>0</td>\n      <td>0</td>\n      <td>0</td>\n      <td>0</td>\n      <td>0</td>\n      <td>195</td>\n      <td>241</td>\n    </tr>\n    <tr>\n      <th>1</th>\n      <td>305</td>\n      <td>242</td>\n      <td>5</td>\n      <td>1998-02-01 04:37:08</td>\n      <td>23</td>\n      <td>M</td>\n      <td>programmer</td>\n      <td>94086</td>\n      <td>Kolya (1996)</td>\n      <td>24-Jan-1997</td>\n      <td>...</td>\n      <td>0</td>\n      <td>0</td>\n      <td>0</td>\n      <td>0</td>\n      <td>0</td>\n      <td>0</td>\n      <td>0</td>\n      <td>0</td>\n      <td>304</td>\n      <td>241</td>\n    </tr>\n    <tr>\n      <th>2</th>\n      <td>6</td>\n      <td>242</td>\n      <td>4</td>\n      <td>1997-12-28 00:16:10</td>\n      <td>42</td>\n      <td>M</td>\n      <td>executive</td>\n      <td>98101</td>\n      <td>Kolya (1996)</td>\n      <td>24-Jan-1997</td>\n      <td>...</td>\n      <td>0</td>\n      <td>0</td>\n      <td>0</td>\n      <td>0</td>\n      <td>0</td>\n      <td>0</td>\n      <td>0</td>\n      <td>0</td>\n      <td>5</td>\n      <td>241</td>\n    </tr>\n    <tr>\n      <th>3</th>\n      <td>234</td>\n      <td>242</td>\n      <td>4</td>\n      <td>1998-03-27 21:14:21</td>\n      <td>60</td>\n      <td>M</td>\n      <td>retired</td>\n      <td>94702</td>\n      <td>Kolya (1996)</td>\n      <td>24-Jan-1997</td>\n      <td>...</td>\n      <td>0</td>\n      <td>0</td>\n      <td>0</td>\n      <td>0</td>\n      <td>0</td>\n      <td>0</td>\n      <td>0</td>\n      <td>0</td>\n      <td>233</td>\n      <td>241</td>\n    </tr>\n    <tr>\n      <th>4</th>\n      <td>63</td>\n      <td>242</td>\n      <td>3</td>\n      <td>1997-10-01 23:06:30</td>\n      <td>31</td>\n      <td>M</td>\n      <td>marketing</td>\n      <td>75240</td>\n      <td>Kolya (1996)</td>\n      <td>24-Jan-1997</td>\n      <td>...</td>\n      <td>0</td>\n      <td>0</td>\n      <td>0</td>\n      <td>0</td>\n      <td>0</td>\n      <td>0</td>\n      <td>0</td>\n      <td>0</td>\n      <td>62</td>\n      <td>241</td>\n    </tr>\n  </tbody>\n</table>\n<p>5 rows × 33 columns</p>\n</div>"
     },
     "execution_count": 3,
     "metadata": {},
     "output_type": "execute_result"
    }
   ],
   "source": [
    "merged_data = pd.read_csv(\"../data/interim/merged.csv\", sep=\"\\t\")\n",
    "merged_data.head()"
   ],
   "metadata": {
    "collapsed": false,
    "ExecuteTime": {
     "end_time": "2023-12-03T13:26:12.060314438Z",
     "start_time": "2023-12-03T13:26:11.804834884Z"
    }
   },
   "id": "23c01731999aa274"
  },
  {
   "cell_type": "code",
   "execution_count": 4,
   "outputs": [],
   "source": [
    "n_users: int = merged_data.user_id.nunique()\n",
    "n_items: int = merged_data.item_id.nunique()"
   ],
   "metadata": {
    "collapsed": false,
    "ExecuteTime": {
     "end_time": "2023-12-03T13:26:12.066276040Z",
     "start_time": "2023-12-03T13:26:12.059736781Z"
    }
   },
   "id": "62f37c30a1d39d4"
  },
  {
   "cell_type": "code",
   "execution_count": 5,
   "outputs": [],
   "source": [
    "merged_data_good = merged_data[merged_data['rating'] > 2]  # Only liked movies"
   ],
   "metadata": {
    "collapsed": false,
    "ExecuteTime": {
     "end_time": "2023-12-03T13:26:12.078772815Z",
     "start_time": "2023-12-03T13:26:12.067435001Z"
    }
   },
   "id": "1442484e31d94db8"
  },
  {
   "cell_type": "code",
   "execution_count": 6,
   "outputs": [],
   "source": [
    "def get_train_val_split(data: pd.DataFrame) -> tuple[pd.DataFrame, pd.DataFrame]:\n",
    "    \"\"\"\n",
    "    Split the input DataFrame into training and testing sets, considering unique users and movies.\n",
    "    Any user_id in the test set would be present in the training set. The same is applicable to item_id.\n",
    "\n",
    "    Parameters:\n",
    "        data (pd.DataFrame): The input DataFrame containing user-item interaction data.\n",
    "\n",
    "    Returns:\n",
    "        tuple[pd.DataFrame, pd.DataFrame]: A tuple containing two DataFrames - the training set and the testing set.\n",
    "    \"\"\"\n",
    "    data = data.copy()\n",
    "    data['id'] = range(len(data))\n",
    "    test_size = int(TEST_RATIO * len(data))\n",
    "\n",
    "    # Save all unique users\n",
    "    all_no_user_cols = [i for i in data.columns if i != 'user_id']\n",
    "    first_user_entries = data.groupby('user_id')[all_no_user_cols].first().reset_index()\n",
    "    first_user_entries = first_user_entries[data.columns]\n",
    "\n",
    "    data = data[\n",
    "        ~data['id'].isin(first_user_entries['id'].values)\n",
    "    ]\n",
    "\n",
    "    # Save all unique movies\n",
    "    all_no_item_cols = [i for i in data.columns if i != 'item_id']\n",
    "    first_movie_entries = data.groupby('item_id')[all_no_item_cols].first().reset_index()\n",
    "    first_movie_entries = first_movie_entries[data.columns]\n",
    "\n",
    "    data = data[\n",
    "        ~data['id'].isin(first_movie_entries['id'].values)\n",
    "    ]\n",
    "\n",
    "    # Split data\n",
    "    train, test = train_test_split(\n",
    "        data.values,\n",
    "        test_size=test_size,\n",
    "        random_state=RANDOM_STATE\n",
    "    )\n",
    "    train_data = pd.DataFrame(train, columns=data.columns)\n",
    "    train_data = pd.concat([train_data, first_user_entries, first_movie_entries], axis=0)\n",
    "    test_data = pd.DataFrame(test, columns=data.columns)\n",
    "\n",
    "    train_data = train_data.drop('id', axis=1)\n",
    "    test_data = test_data.drop('id', axis=1)\n",
    "    data = data.drop('id', axis=1)\n",
    "\n",
    "    # Restore types\n",
    "    for col in data.columns:\n",
    "        train_data[col] = train_data[col].astype(data[col].dtype)\n",
    "        test_data[col] = test_data[col].astype(data[col].dtype)\n",
    "\n",
    "    return train_data, test_data"
   ],
   "metadata": {
    "collapsed": false,
    "ExecuteTime": {
     "end_time": "2023-12-03T13:26:12.116792371Z",
     "start_time": "2023-12-03T13:26:12.076854994Z"
    }
   },
   "id": "56ee29729658f742"
  },
  {
   "cell_type": "code",
   "execution_count": 7,
   "outputs": [],
   "source": [
    "train_df, test_df = get_train_val_split(merged_data_good)\n",
    "assert len(train_df) + len(test_df) == len(merged_data_good)"
   ],
   "metadata": {
    "collapsed": false,
    "ExecuteTime": {
     "end_time": "2023-12-03T13:26:12.835785466Z",
     "start_time": "2023-12-03T13:26:12.089529194Z"
    }
   },
   "id": "8bdbf9e768f49f16"
  },
  {
   "cell_type": "code",
   "execution_count": 8,
   "outputs": [
    {
     "data": {
      "text/plain": "   user_id  item_id  rating            timestamp  age gender  occupation  \\\n0      590      127       4  1997-11-13 16:47:25   50      M    educator   \n1      693      318       4  1997-09-28 21:28:12   43      F  healthcare   \n2      532      118       4  1998-02-28 03:00:13   20      M     student   \n3      582      328       3  1997-12-24 10:49:15   17      M     student   \n4      109      161       3  1997-11-26 19:32:36   29      M       other   \n\n  zip code               movie_title release date  ...  Horror Musical  \\\n0    82435     Godfather, The (1972)  01-Jan-1972  ...       0       0   \n1    85210   Schindler's List (1993)  01-Jan-1993  ...       0       0   \n2    92705            Twister (1996)  10-May-1996  ...       0       0   \n3    93003  Conspiracy Theory (1997)  08-Aug-1997  ...       0       0   \n4    55423            Top Gun (1986)  01-Jan-1986  ...       0       0   \n\n   Mystery  Romance  Sci-Fi  Thriller  War  Western  user_id_new  item_id_new  \n0        0        0       0         0    0        0          589          126  \n1        0        0       0         0    1        0          692          317  \n2        0        0       0         1    0        0          531          117  \n3        1        1       0         1    0        0          581          327  \n4        0        1       0         0    0        0          108          160  \n\n[5 rows x 33 columns]",
      "text/html": "<div>\n<style scoped>\n    .dataframe tbody tr th:only-of-type {\n        vertical-align: middle;\n    }\n\n    .dataframe tbody tr th {\n        vertical-align: top;\n    }\n\n    .dataframe thead th {\n        text-align: right;\n    }\n</style>\n<table border=\"1\" class=\"dataframe\">\n  <thead>\n    <tr style=\"text-align: right;\">\n      <th></th>\n      <th>user_id</th>\n      <th>item_id</th>\n      <th>rating</th>\n      <th>timestamp</th>\n      <th>age</th>\n      <th>gender</th>\n      <th>occupation</th>\n      <th>zip code</th>\n      <th>movie_title</th>\n      <th>release date</th>\n      <th>...</th>\n      <th>Horror</th>\n      <th>Musical</th>\n      <th>Mystery</th>\n      <th>Romance</th>\n      <th>Sci-Fi</th>\n      <th>Thriller</th>\n      <th>War</th>\n      <th>Western</th>\n      <th>user_id_new</th>\n      <th>item_id_new</th>\n    </tr>\n  </thead>\n  <tbody>\n    <tr>\n      <th>0</th>\n      <td>590</td>\n      <td>127</td>\n      <td>4</td>\n      <td>1997-11-13 16:47:25</td>\n      <td>50</td>\n      <td>M</td>\n      <td>educator</td>\n      <td>82435</td>\n      <td>Godfather, The (1972)</td>\n      <td>01-Jan-1972</td>\n      <td>...</td>\n      <td>0</td>\n      <td>0</td>\n      <td>0</td>\n      <td>0</td>\n      <td>0</td>\n      <td>0</td>\n      <td>0</td>\n      <td>0</td>\n      <td>589</td>\n      <td>126</td>\n    </tr>\n    <tr>\n      <th>1</th>\n      <td>693</td>\n      <td>318</td>\n      <td>4</td>\n      <td>1997-09-28 21:28:12</td>\n      <td>43</td>\n      <td>F</td>\n      <td>healthcare</td>\n      <td>85210</td>\n      <td>Schindler's List (1993)</td>\n      <td>01-Jan-1993</td>\n      <td>...</td>\n      <td>0</td>\n      <td>0</td>\n      <td>0</td>\n      <td>0</td>\n      <td>0</td>\n      <td>0</td>\n      <td>1</td>\n      <td>0</td>\n      <td>692</td>\n      <td>317</td>\n    </tr>\n    <tr>\n      <th>2</th>\n      <td>532</td>\n      <td>118</td>\n      <td>4</td>\n      <td>1998-02-28 03:00:13</td>\n      <td>20</td>\n      <td>M</td>\n      <td>student</td>\n      <td>92705</td>\n      <td>Twister (1996)</td>\n      <td>10-May-1996</td>\n      <td>...</td>\n      <td>0</td>\n      <td>0</td>\n      <td>0</td>\n      <td>0</td>\n      <td>0</td>\n      <td>1</td>\n      <td>0</td>\n      <td>0</td>\n      <td>531</td>\n      <td>117</td>\n    </tr>\n    <tr>\n      <th>3</th>\n      <td>582</td>\n      <td>328</td>\n      <td>3</td>\n      <td>1997-12-24 10:49:15</td>\n      <td>17</td>\n      <td>M</td>\n      <td>student</td>\n      <td>93003</td>\n      <td>Conspiracy Theory (1997)</td>\n      <td>08-Aug-1997</td>\n      <td>...</td>\n      <td>0</td>\n      <td>0</td>\n      <td>1</td>\n      <td>1</td>\n      <td>0</td>\n      <td>1</td>\n      <td>0</td>\n      <td>0</td>\n      <td>581</td>\n      <td>327</td>\n    </tr>\n    <tr>\n      <th>4</th>\n      <td>109</td>\n      <td>161</td>\n      <td>3</td>\n      <td>1997-11-26 19:32:36</td>\n      <td>29</td>\n      <td>M</td>\n      <td>other</td>\n      <td>55423</td>\n      <td>Top Gun (1986)</td>\n      <td>01-Jan-1986</td>\n      <td>...</td>\n      <td>0</td>\n      <td>0</td>\n      <td>0</td>\n      <td>1</td>\n      <td>0</td>\n      <td>0</td>\n      <td>0</td>\n      <td>0</td>\n      <td>108</td>\n      <td>160</td>\n    </tr>\n  </tbody>\n</table>\n<p>5 rows × 33 columns</p>\n</div>"
     },
     "execution_count": 8,
     "metadata": {},
     "output_type": "execute_result"
    }
   ],
   "source": [
    "train_df.head()"
   ],
   "metadata": {
    "collapsed": false,
    "ExecuteTime": {
     "end_time": "2023-12-03T13:26:12.838258117Z",
     "start_time": "2023-12-03T13:26:12.786879419Z"
    }
   },
   "id": "3cd7fe622d02c7df"
  },
  {
   "cell_type": "markdown",
   "source": [
    "# Get batch & get edge index"
   ],
   "metadata": {
    "collapsed": false
   },
   "id": "fcecf3ba44004a6a"
  },
  {
   "cell_type": "code",
   "execution_count": 9,
   "outputs": [],
   "source": [
    "def get_not_in(x: Iterable[int], low: int, high: int) -> int:\n",
    "    \"\"\"\n",
    "    Generate a random integer within a specified range that is not present in the given iterable.\n",
    "\n",
    "    Parameters:\n",
    "        x (Iterable[int]): The iterable containing integers.\n",
    "        low (int): The lower bound of the range (inclusive).\n",
    "        high (int): The upper bound of the range (exclusive).\n",
    "\n",
    "    Returns:\n",
    "        int: A random integer within the specified range that is not present in the input iterable.\n",
    "    \"\"\"\n",
    "    candidate = np.random.randint(low, high)\n",
    "    while candidate in x:\n",
    "        candidate = np.random.randint(low, high)\n",
    "    return candidate\n",
    "\n",
    "\n",
    "def get_batch(data: pd.DataFrame,\n",
    "              batch_size: int,\n",
    "              n_usr: int,\n",
    "              n_itm: int,\n",
    "              dev: Union[torch.device, str] = 'cpu') -> tuple[torch.Tensor, torch.Tensor, torch.Tensor]:\n",
    "    \"\"\"\n",
    "    Generate a batch of training data for a recommendation system.\n",
    "\n",
    "    Parameters:\n",
    "        data (pd.DataFrame): The input DataFrame containing user-item interaction data.\n",
    "        batch_size (int): The number of samples to include in the batch.\n",
    "        n_usr (int): The number of unique users in the dataset.\n",
    "        n_itm (int): The number of unique items in the dataset.\n",
    "        dev (Union[torch.device, str]): The device on which to place the generated tensors (default is 'cpu').\n",
    "\n",
    "    Returns:\n",
    "        Tuple[torch.Tensor, torch.Tensor, torch.Tensor]: A tuple containing three tensors representing chosen users,\n",
    "        positive items, and negative items for the recommendation system training batch.\n",
    "    \"\"\"\n",
    "    users_liked_items = data.groupby('user_id_new')['item_id_new'].apply(list).reset_index()\n",
    "    indices: np.ndarray = np.arange(0, n_usr, 1)\n",
    "\n",
    "    chosen_users = np.random.choice(indices, batch_size, replace=n_usr < batch_size)\n",
    "    chosen_users.sort()\n",
    "\n",
    "    users_liked_items = pd.merge(\n",
    "        users_liked_items, \n",
    "        pd.DataFrame(chosen_users, columns=['user_id_new']), \n",
    "        how='right', \n",
    "        on='user_id_new'\n",
    "    )\n",
    "    pos_items = users_liked_items['item_id_new'].apply(lambda x: np.random.choice(x)).values + n_usr\n",
    "    neg_items = users_liked_items['item_id_new'].apply(lambda x: get_not_in(x, 0, n_itm)).values + n_usr\n",
    "\n",
    "    return (\n",
    "        torch.LongTensor(chosen_users).to(dev),\n",
    "        torch.LongTensor(pos_items).to(dev),\n",
    "        torch.LongTensor(neg_items).to(dev),\n",
    "    )"
   ],
   "metadata": {
    "collapsed": false,
    "ExecuteTime": {
     "end_time": "2023-12-03T13:26:12.839550028Z",
     "start_time": "2023-12-03T13:26:12.799888407Z"
    }
   },
   "id": "4a6e42027acfb9eb"
  },
  {
   "cell_type": "code",
   "execution_count": 10,
   "outputs": [
    {
     "data": {
      "text/plain": "(tensor([ 71, 280, 282, 428, 503, 522, 718, 753, 812, 814]),\n tensor([1369, 1265, 1236, 1074, 1218, 1605, 1227, 1761, 1832, 1083]),\n tensor([2240, 2467, 1087, 1948, 1796, 1588, 1143, 1748, 2146, 1702]))"
     },
     "execution_count": 10,
     "metadata": {},
     "output_type": "execute_result"
    }
   ],
   "source": [
    "get_batch(train_df, 10, n_users, n_items)"
   ],
   "metadata": {
    "collapsed": false,
    "ExecuteTime": {
     "end_time": "2023-12-03T13:26:12.876886227Z",
     "start_time": "2023-12-03T13:26:12.803339528Z"
    }
   },
   "id": "7605ba92f2536335"
  },
  {
   "cell_type": "code",
   "execution_count": 11,
   "outputs": [],
   "source": [
    "def get_edge_index(data: pd.DataFrame,\n",
    "                   n_usr: int,\n",
    "                   dev: Union[torch.device, str] = 'cpu') -> torch.Tensor:\n",
    "    \"\"\"\n",
    "    Generate the edge index tensor for a bipartite graph representing user-item interactions.\n",
    "\n",
    "    Parameters:\n",
    "        data (pd.DataFrame): The input DataFrame containing user-item interaction data.\n",
    "        n_usr (int): The number of unique users in the dataset.\n",
    "        dev (Union[torch.device, str]): The device on which to place the generated tensor (default is 'cpu').\n",
    "\n",
    "    Returns:\n",
    "        torch.Tensor: The edge index tensor for the bipartite graph, representing user-item interactions.\n",
    "    \"\"\"\n",
    "    # Convert user and item IDs to PyTorch LongTensors\n",
    "    u_t = torch.LongTensor(data.user_id_new.values)\n",
    "    i_t = torch.LongTensor(data.item_id_new.values) + n_usr\n",
    "\n",
    "    # Create the edge index tensor by stacking user and item tensors\n",
    "    train_edge_index = torch.stack(\n",
    "        (\n",
    "            torch.cat([u_t, i_t]),\n",
    "            torch.cat([i_t, u_t])\n",
    "        )\n",
    "    ).to(dev)\n",
    "    return train_edge_index"
   ],
   "metadata": {
    "collapsed": false,
    "ExecuteTime": {
     "end_time": "2023-12-03T13:26:12.896020427Z",
     "start_time": "2023-12-03T13:26:12.844670732Z"
    }
   },
   "id": "233de7cc4e0194d1"
  },
  {
   "cell_type": "code",
   "execution_count": 12,
   "outputs": [
    {
     "data": {
      "text/plain": "tensor([[ 589,  692,  531,  ..., 2621, 2623, 2624],\n        [1069, 1260, 1060,  ...,  862,  895,  915]])"
     },
     "execution_count": 12,
     "metadata": {},
     "output_type": "execute_result"
    }
   ],
   "source": [
    "get_edge_index(train_df, n_users)"
   ],
   "metadata": {
    "collapsed": false,
    "ExecuteTime": {
     "end_time": "2023-12-03T13:26:12.897709645Z",
     "start_time": "2023-12-03T13:26:12.849202193Z"
    }
   },
   "id": "8803d83561bfb4de"
  },
  {
   "cell_type": "markdown",
   "source": [
    "# Models"
   ],
   "metadata": {
    "collapsed": false
   },
   "id": "25ea05e3fed2c769"
  },
  {
   "cell_type": "code",
   "execution_count": 13,
   "outputs": [],
   "source": [
    "class LightGNNConv(MessagePassing):\n",
    "    \"\"\"\n",
    "    Implementation of a LightGNN convolutional layer for graph neural networks.\n",
    "    \"\"\"\n",
    "\n",
    "    def __init__(self):\n",
    "        super().__init__(aggr='add')\n",
    "\n",
    "    def forward(self, x, edge_index):\n",
    "        \"\"\"\n",
    "        Perform a forward pass through the LightGNNConv layer.\n",
    "\n",
    "        Parameters:\n",
    "            x (torch.Tensor): The input node features.\n",
    "            edge_index (torch.Tensor): The edge index tensor representing the graph connectivity.\n",
    "\n",
    "        Returns:\n",
    "            torch.Tensor: The output tensor after applying the LightGNNConv layer.\n",
    "        \"\"\"\n",
    "        # Compute normalization\n",
    "        from_, to_ = edge_index\n",
    "        deg = degree(to_, x.size(0), dtype=x.dtype)\n",
    "        deg_inv_sqrt = deg.pow(-0.5)\n",
    "        deg_inv_sqrt[deg_inv_sqrt == float('inf')] = 0\n",
    "        norm = deg_inv_sqrt[from_] * deg_inv_sqrt[to_]\n",
    "\n",
    "        # Start propagating messages (no update after aggregation)\n",
    "        return self.propagate(edge_index, x=x, norm=norm)\n",
    "\n",
    "    def message(self, x_j, norm):\n",
    "        \"\"\"\n",
    "        Define the message function for the LightGNNConv layer.\n",
    "\n",
    "        Parameters:\n",
    "            x_j (torch.Tensor): The input node features of neighboring nodes.\n",
    "            norm (torch.Tensor): The normalization coefficients.\n",
    "\n",
    "        Returns:\n",
    "            torch.Tensor: The scaled and normalized message.\n",
    "        \"\"\"\n",
    "        return norm.view(-1, 1) * x_j"
   ],
   "metadata": {
    "collapsed": false,
    "ExecuteTime": {
     "end_time": "2023-12-03T13:26:13.000562454Z",
     "start_time": "2023-12-03T13:26:12.857712491Z"
    }
   },
   "id": "710581f7ab15d716"
  },
  {
   "cell_type": "code",
   "execution_count": 14,
   "outputs": [],
   "source": [
    "class FeaturedRecSysGNN(nn.Module):\n",
    "    \"\"\"\n",
    "    Graph Neural Network model for recommendation systems.\n",
    "\n",
    "    Parameters:\n",
    "        latent_dim (int): The dimensionality of the embedding.\n",
    "        n_layers (int): The number of layers in the GNN.\n",
    "        n_usr (int): The number of unique users in the dataset.\n",
    "        n_itm (int): The number of unique items in the dataset.\n",
    "        user_features (torch.Tensor): Tensor containing user features.\n",
    "        item_features (torch.Tensor): Tensor containing item features.\n",
    "    \"\"\"\n",
    "\n",
    "    def __init__(\n",
    "            self,\n",
    "            latent_dim: int,\n",
    "            n_layers: int,\n",
    "            n_usr: int,\n",
    "            n_itm: int,\n",
    "            user_features: torch.Tensor,\n",
    "            item_features: torch.Tensor,\n",
    "    ):\n",
    "        super(FeaturedRecSysGNN, self).__init__()\n",
    "        self.embedding = nn.Embedding(n_usr + n_itm, latent_dim)\n",
    "        self.conv_s = nn.ModuleList(LightGNNConv() for _ in range(n_layers))\n",
    "        self.n_usr = n_usr\n",
    "        self.n_itm = n_itm\n",
    "        self.user_features = user_features\n",
    "        self.item_features = item_features\n",
    "        self.linear_1 = nn.Linear(user_features.size(1), latent_dim)\n",
    "        self.linear_2 = nn.Linear(item_features.size(1), latent_dim)\n",
    "        self.init_parameters()\n",
    "\n",
    "    def init_parameters(self):\n",
    "        \"\"\"\n",
    "        Initialize the parameters of the embedding layer using normal distribution with a standard deviation of 0.1.\n",
    "        \"\"\"\n",
    "        # Authors of LightGCN report higher results with normal initialization\n",
    "        nn.init.normal_(self.embedding.weight, std=0.1)\n",
    "\n",
    "    def forward(self, edge_index: torch.Tensor) -> tuple[torch.Tensor, torch.Tensor]:\n",
    "        \"\"\"\n",
    "        Perform a forward pass through the RecSysGNN model.\n",
    "\n",
    "        Parameters:\n",
    "            edge_index (torch.Tensor): The edge index tensor representing the graph connectivity.\n",
    "\n",
    "        Returns:\n",
    "            Tuple[torch.Tensor, torch.Tensor]: A tuple containing the initial embeddings and the final embeddings.\n",
    "        \"\"\"\n",
    "        emb0 = self.embedding.weight\n",
    "        mapped_user_features = self.linear_1(self.user_features)\n",
    "        mapped_item_features = self.linear_2(self.item_features)\n",
    "        combined_features = torch.cat([mapped_user_features, mapped_item_features])\n",
    "        emb0 = combined_features + emb0\n",
    "        emb_s = [emb0]\n",
    "        emb = emb0\n",
    "\n",
    "        for conv in self.conv_s:\n",
    "            emb = conv(x=emb, edge_index=edge_index)\n",
    "            emb_s.append(emb)\n",
    "\n",
    "        out = torch.mean(torch.stack(emb_s, dim=0), dim=0)\n",
    "\n",
    "        return emb0, out\n",
    "\n",
    "    def encode_minibatch(self,\n",
    "                         users: torch.Tensor,\n",
    "                         pos_items: torch.Tensor,\n",
    "                         neg_items: torch.Tensor,\n",
    "                         edge_index: torch.Tensor) -> tuple[torch.Tensor, ...]:\n",
    "        \"\"\"\n",
    "        Encode a minibatch of users, positive items, and negative items using the RecSysGNN model.\n",
    "\n",
    "        Parameters:\n",
    "            users (torch.Tensor): Indices of users in the minibatch.\n",
    "            pos_items (torch.Tensor): Indices of positive items in the minibatch.\n",
    "            neg_items (torch.Tensor): Indices of negative items in the minibatch.\n",
    "            edge_index (torch.Tensor): The edge index tensor representing the graph connectivity.\n",
    "\n",
    "        Returns:\n",
    "            Tuple[torch.Tensor, ...]: A tuple containing embeddings for users, positive items, and negative items,\n",
    "            both in the initial and final representations.\n",
    "        \"\"\"\n",
    "        emb0, out = self(edge_index)\n",
    "        return (\n",
    "            out[users],\n",
    "            out[pos_items],\n",
    "            out[neg_items],\n",
    "            emb0[users],\n",
    "            emb0[pos_items],\n",
    "            emb0[neg_items]\n",
    "        )"
   ],
   "metadata": {
    "collapsed": false,
    "ExecuteTime": {
     "end_time": "2023-12-03T13:26:13.001652245Z",
     "start_time": "2023-12-03T13:26:12.904528324Z"
    }
   },
   "id": "803b8f84986daa0a"
  },
  {
   "cell_type": "code",
   "execution_count": 15,
   "outputs": [
    {
     "data": {
      "text/plain": "torch.Size([943, 21])"
     },
     "execution_count": 15,
     "metadata": {},
     "output_type": "execute_result"
    }
   ],
   "source": [
    "def get_user_features(data: pd.DataFrame, dev: Union[torch.device, str] = \"cpu\") -> torch.Tensor:\n",
    "    \"\"\"\n",
    "    Extract user features from the given DataFrame.\n",
    "\n",
    "    Parameters:\n",
    "        data (pd.DataFrame): The DataFrame containing user features.\n",
    "        dev (Union[torch.device, str]): The device on which to store the user features tensor (default is \"cpu\").\n",
    "\n",
    "    Returns:\n",
    "        torch.Tensor: The tensor containing user features.\n",
    "    \"\"\"\n",
    "    encoder_1 = OneHotEncoder()\n",
    "    user_occupation = data.groupby(['user_id_new', 'occupation']).first().reset_index()\n",
    "    user_occupation = user_occupation[['user_id_new', 'occupation']]\n",
    "    user_occupation = user_occupation.sort_values('user_id_new')\n",
    "    \n",
    "    user_features = np.expand_dims(user_occupation['occupation'].values, axis=1)\n",
    "    user_features = encoder_1.fit_transform(user_features).toarray()\n",
    "    user_features = torch.tensor(user_features, dtype=torch.float)\n",
    "    \n",
    "    return user_features.to(dev)\n",
    "\n",
    "get_user_features(merged_data).shape"
   ],
   "metadata": {
    "collapsed": false,
    "ExecuteTime": {
     "end_time": "2023-12-03T13:26:13.048202739Z",
     "start_time": "2023-12-03T13:26:12.904709359Z"
    }
   },
   "id": "161b86c86a54af8d"
  },
  {
   "cell_type": "code",
   "execution_count": 16,
   "outputs": [
    {
     "name": "stdout",
     "output_type": "stream",
     "text": [
      "['Action', 'Adventure', 'Animation', 'Children', 'Comedy', 'Crime', 'Documentary', 'Drama', 'Fantasy', 'Film-Noir', 'Horror', 'Musical', 'Mystery', 'Romance', 'Sci-Fi', 'Thriller', 'War', 'Western']\n"
     ]
    }
   ],
   "source": [
    "movie_cat_columns = list(merged_data.columns[13:-2])\n",
    "print(movie_cat_columns)"
   ],
   "metadata": {
    "collapsed": false,
    "ExecuteTime": {
     "end_time": "2023-12-03T13:26:13.049152646Z",
     "start_time": "2023-12-03T13:26:12.948575345Z"
    }
   },
   "id": "aa912e7a62960623"
  },
  {
   "cell_type": "code",
   "execution_count": 17,
   "outputs": [
    {
     "data": {
      "text/plain": "torch.Size([1682, 18])"
     },
     "execution_count": 17,
     "metadata": {},
     "output_type": "execute_result"
    }
   ],
   "source": [
    "def get_item_features(data: pd.DataFrame, \n",
    "                      f_cols: list[str], \n",
    "                      dev: Union[torch.device, str] = \"cpu\") -> torch.Tensor:\n",
    "    \"\"\"\n",
    "    Extract item features from the given DataFrame.\n",
    "\n",
    "    Parameters:\n",
    "        data (pd.DataFrame): The DataFrame containing item features.\n",
    "        f_cols (list[str]): The list of columns representing item features.\n",
    "        dev (Union[torch.device, str]): The device on which to store the item features tensor (default is \"cpu\").\n",
    "\n",
    "    Returns:\n",
    "        torch.Tensor: The tensor containing item features.\n",
    "    \"\"\"\n",
    "    item_features_df = data[f_cols + ['item_id_new']].sort_values('item_id_new')\n",
    "    item_features_df = item_features_df.groupby('item_id_new').first().reset_index()\n",
    "    item_features_df = item_features_df[f_cols]\n",
    "    item_features = torch.tensor(item_features_df.values, dtype=torch.float)\n",
    "\n",
    "    return item_features.to(dev)\n",
    "\n",
    "get_item_features(merged_data, movie_cat_columns).shape"
   ],
   "metadata": {
    "collapsed": false,
    "ExecuteTime": {
     "end_time": "2023-12-03T13:26:13.052151668Z",
     "start_time": "2023-12-03T13:26:12.950830350Z"
    }
   },
   "id": "cb22a5ec4cafa065"
  },
  {
   "cell_type": "markdown",
   "source": [
    "# Metric & Loss"
   ],
   "metadata": {
    "collapsed": false
   },
   "id": "96f77f3331a18f52"
  },
  {
   "cell_type": "code",
   "execution_count": 18,
   "outputs": [],
   "source": [
    "def compute_bpr_loss(users: torch.Tensor,\n",
    "                     users_emb: torch.Tensor,\n",
    "                     pos_emb: torch.Tensor,\n",
    "                     neg_emb: torch.Tensor,\n",
    "                     user_emb_0: torch.Tensor,\n",
    "                     pos_emb_0: torch.Tensor,\n",
    "                     neg_emb_0: torch.Tensor, ) -> tuple[torch.Tensor, torch.Tensor]:\n",
    "    \"\"\"\n",
    "    Compute BPR (Bayesian Personalized Ranking) loss and regularization loss.\n",
    "\n",
    "    Parameters:\n",
    "        users (torch.Tensor): Indices of users in the minibatch.\n",
    "        users_emb (torch.Tensor): Embeddings for users.\n",
    "        pos_emb (torch.Tensor): Embeddings for positive items.\n",
    "        neg_emb (torch.Tensor): Embeddings for negative items.\n",
    "        user_emb_0 (torch.Tensor): Initial embeddings for users.\n",
    "        pos_emb_0 (torch.Tensor): Initial embeddings for positive items.\n",
    "        neg_emb_0 (torch.Tensor): Initial embeddings for negative items.\n",
    "\n",
    "    Returns:\n",
    "        Tuple[torch.Tensor, torch.Tensor]: A tuple containing BPR loss and regularization loss.\n",
    "    \"\"\"\n",
    "    # compute loss from initial embeddings, used for regularization\n",
    "    reg_loss = (1 / 2) * (\n",
    "            user_emb_0.norm().pow(2) +\n",
    "            pos_emb_0.norm().pow(2) +\n",
    "            neg_emb_0.norm().pow(2)\n",
    "    ) / float(len(users))\n",
    "\n",
    "    # compute BPR loss from user, positive item, and negative item embeddings\n",
    "    pos_scores = torch.mul(users_emb, pos_emb).sum(dim=1)\n",
    "    neg_scores = torch.mul(users_emb, neg_emb).sum(dim=1)\n",
    "\n",
    "    bpr_loss = torch.mean(torch_nnf.softplus(neg_scores - pos_scores))\n",
    "\n",
    "    return bpr_loss, reg_loss"
   ],
   "metadata": {
    "collapsed": false,
    "ExecuteTime": {
     "end_time": "2023-12-03T13:26:13.052882885Z",
     "start_time": "2023-12-03T13:26:12.972369473Z"
    }
   },
   "id": "5e5323cb83777359"
  },
  {
   "cell_type": "code",
   "execution_count": 19,
   "outputs": [],
   "source": [
    "def compute_metrics(user_embs: torch.Tensor,\n",
    "                    item_embs: torch.Tensor,\n",
    "                    n_usr: int,\n",
    "                    n_itm: int,\n",
    "                    train_data: pd.DataFrame,\n",
    "                    test_data: pd.DataFrame,\n",
    "                    top_k: int,\n",
    "                    dev: Union[torch.device, str] = \"cpu\"):\n",
    "    \"\"\"\n",
    "    Compute recall and precision metrics for a recommendation system.\n",
    "\n",
    "    Parameters:\n",
    "        user_embs (torch.Tensor): Embeddings for users.\n",
    "        item_embs (torch.Tensor): Embeddings for items.\n",
    "        n_usr (int): The number of unique users in the dataset.\n",
    "        n_itm (int): The number of unique items in the dataset.\n",
    "        train_data (pd.DataFrame): The training data DataFrame.\n",
    "        test_data (pd.DataFrame): The test data DataFrame.\n",
    "        top_k (int): The number of top recommendations to consider.\n",
    "        dev (Union[torch.device, str]): The device on which to perform the computation (default is \"cpu\").\n",
    "\n",
    "    Returns:\n",
    "        Tuple[float, float]: A tuple containing the average recall and precision values.\n",
    "    \"\"\"\n",
    "    if isinstance(dev, str):\n",
    "        dev = torch.device(dev)\n",
    "\n",
    "    relevance_score = torch.matmul(user_embs, item_embs.T)\n",
    "\n",
    "    # create dense tensor of all user-item interactions\n",
    "    connections = torch.stack(\n",
    "        (\n",
    "            torch.LongTensor(train_data['user_id_new'].values),\n",
    "            torch.LongTensor(train_data['item_id_new'].values)\n",
    "        )\n",
    "    )\n",
    "    values = torch.ones((len(train_data),), dtype=torch.float64)\n",
    "    interactions_t = torch.sparse_coo_tensor(\n",
    "        connections,\n",
    "        values,\n",
    "        (n_usr, n_itm)\n",
    "    ).to_dense().to(dev)\n",
    "\n",
    "    # mask out training user-item interactions from metric computation\n",
    "    relevance_score = torch.mul(relevance_score, (1 - interactions_t))\n",
    "\n",
    "    top_k_relevance_indices = torch.topk(relevance_score, top_k).indices\n",
    "    if dev.type == \"cuda\":\n",
    "        top_k_relevance_indices = top_k_relevance_indices.cpu()\n",
    "    top_k_relevance_indices_df = pd.DataFrame(\n",
    "        top_k_relevance_indices.numpy(),\n",
    "        columns=[f'top_idx_{x + 1}' for x in range(top_k)]\n",
    "    )\n",
    "    top_k_relevance_indices_df['user_id_new'] = top_k_relevance_indices_df.index\n",
    "    top_k_relevance_indices_df['top_rvt_item'] = top_k_relevance_indices_df[\n",
    "        [f'top_idx_{x + 1}' for x in range(top_k)]\n",
    "    ].values.tolist()\n",
    "    top_k_relevance_indices_df = top_k_relevance_indices_df[['user_id_new', 'top_rvt_item']]\n",
    "\n",
    "    test_interacted_items = test_data.groupby('user_id_new')['item_id_new'].apply(list).reset_index()\n",
    "    metrics_df = pd.merge(\n",
    "        test_interacted_items,\n",
    "        top_k_relevance_indices_df,\n",
    "        how='left',\n",
    "        on='user_id_new'\n",
    "    )\n",
    "    metrics_df['intersection_itm'] = [\n",
    "        list(set(a).intersection(b))\n",
    "        for a, b in zip(metrics_df.item_id_new, metrics_df.top_rvt_item)\n",
    "    ]\n",
    "\n",
    "    metrics_df['recall'] = metrics_df.apply(lambda x: len(x['intersection_itm']) / len(x['item_id_new']), axis=1)\n",
    "    metrics_df['precision'] = metrics_df.apply(lambda x: len(x['intersection_itm']) / top_k, axis=1)\n",
    "\n",
    "    return metrics_df['recall'].mean(), metrics_df['precision'].mean()"
   ],
   "metadata": {
    "collapsed": false,
    "ExecuteTime": {
     "end_time": "2023-12-03T13:26:13.061178822Z",
     "start_time": "2023-12-03T13:26:12.975880968Z"
    }
   },
   "id": "15bc215738450ce8"
  },
  {
   "cell_type": "markdown",
   "source": [
    "# Training"
   ],
   "metadata": {
    "collapsed": false
   },
   "id": "52c9c50429438092"
  },
  {
   "cell_type": "code",
   "execution_count": 20,
   "outputs": [],
   "source": [
    "def train_and_eval(train_model: FeaturedRecSysGNN,\n",
    "                   optim: torch.optim.Optimizer,\n",
    "                   train_data: pd.DataFrame,\n",
    "                   test_data: pd.DataFrame,\n",
    "                   epochs: int,\n",
    "                   n_usr: int,\n",
    "                   n_itm: int,\n",
    "                   top_k: int,\n",
    "                   dev: Union[torch.device, str] = \"cpu\",\n",
    "                   ckpt_path_recall: Union[str, Path, None] = None,\n",
    "                   ckpt_path_precision: Union[str, Path, None] = None):\n",
    "    \"\"\"\n",
    "    Train and evaluate a recommendation system using a graph neural network.\n",
    "\n",
    "    Parameters:\n",
    "        train_model (RecSysGNN): The recommendation system model.\n",
    "        optim (torch.optim.Optimizer): The optimizer for training the model.\n",
    "        train_data (pd.DataFrame): The training data DataFrame.\n",
    "        test_data (pd.DataFrame): The test data DataFrame.\n",
    "        epochs (int): The number of training epochs.\n",
    "        n_usr (int): The number of unique users in the dataset.\n",
    "        n_itm (int): The number of unique items in the dataset.\n",
    "        top_k (int): The number of top recommendations to consider for evaluation.\n",
    "        dev (Union[torch.device, str]): The device on which to perform the computation (default is \"cpu\").\n",
    "        ckpt_path_recall (Union[str, Path, None]): The path to save the model checkpoint based on recall (default is None).\n",
    "        ckpt_path_precision (Union[str, Path, None]): The path to save the model checkpoint based on precision (default is None).\n",
    "\n",
    "    Returns:\n",
    "        Tuple[list, list, list, list, list]: A tuple containing lists of loss, BPR loss, regularization loss, recall, and precision values.\n",
    "    \"\"\"\n",
    "    loss_list_epoch = []\n",
    "    bpr_loss_list_epoch = []\n",
    "    reg_loss_list_epoch = []\n",
    "\n",
    "    recall_list = []\n",
    "    precision_list = []\n",
    "    train_edge_index = get_edge_index(train_data, n_usr, dev)\n",
    "\n",
    "    best_recall = 0\n",
    "    best_precision = 0\n",
    "\n",
    "    for epoch in range(epochs):\n",
    "        n_batch = int(len(train_data) / BATCH_SIZE)\n",
    "\n",
    "        # progress bar\n",
    "        progress_train = tqdm(\n",
    "            range(1, n_batch + 1), \n",
    "            desc=f\"Epoch {epoch + 1}/{epochs}\", \n",
    "            unit=\"batch\",\n",
    "            total=n_batch\n",
    "        )\n",
    "        final_loss_total = 0\n",
    "        bpr_loss_total = 0\n",
    "        reg_loss_total = 0\n",
    "\n",
    "        # Train\n",
    "        train_model.train()\n",
    "        for batch_idx in progress_train:\n",
    "            optim.zero_grad()\n",
    "\n",
    "            users, pos_items, neg_items = get_batch(train_data, BATCH_SIZE, n_usr, n_itm, dev)\n",
    "            (\n",
    "                users_emb,\n",
    "                pos_emb,\n",
    "                neg_emb,\n",
    "                user_emb_0,\n",
    "                pos_emb_0,\n",
    "                neg_emb_0\n",
    "            ) = train_model.encode_minibatch(\n",
    "                users,\n",
    "                pos_items,\n",
    "                neg_items,\n",
    "                train_edge_index\n",
    "            )\n",
    "\n",
    "            bpr_loss, reg_loss = compute_bpr_loss(\n",
    "                users, users_emb, pos_emb, neg_emb,\n",
    "                user_emb_0, pos_emb_0, neg_emb_0\n",
    "            )\n",
    "\n",
    "            bpr_loss_total += bpr_loss.item()\n",
    "            reg_loss_total += reg_loss.item()\n",
    "\n",
    "            reg_loss = DECAY * reg_loss\n",
    "            final_loss = bpr_loss + reg_loss\n",
    "            \n",
    "            final_loss_total += final_loss.item()\n",
    "\n",
    "            final_loss.backward()\n",
    "            optim.step()\n",
    "\n",
    "            progress_train.set_postfix(\n",
    "                **{\n",
    "                    \"final loss\": final_loss_total / batch_idx, \n",
    "                    \"bpr loss\": bpr_loss_total / batch_idx,\n",
    "                    \"reg loss\": reg_loss_total / batch_idx, \n",
    "                }\n",
    "            )\n",
    "\n",
    "        train_model.eval()\n",
    "        with torch.no_grad():\n",
    "            _, out = train_model(train_edge_index)\n",
    "            emb_u, emb_i = torch.split(out, [n_usr, n_itm])\n",
    "            test_top_k_recall, test_top_k_precision = compute_metrics(\n",
    "                emb_u, emb_i, n_usr, n_itm, train_data, test_data, top_k, dev\n",
    "            )\n",
    "\n",
    "        loss_list_epoch.append(round(final_loss_total / n_batch, 4))\n",
    "        bpr_loss_list_epoch.append(round(bpr_loss_total / n_batch, 4))\n",
    "        reg_loss_list_epoch.append(round(reg_loss_total / n_batch, 4))\n",
    "\n",
    "        recall_list.append(round(test_top_k_recall, 4))\n",
    "        precision_list.append(round(test_top_k_precision, 4))\n",
    "\n",
    "        print(\n",
    "            f\"Validation, \"\n",
    "            f\"Top K Recall: {test_top_k_recall:.4f}, \"\n",
    "            f\"Top K Precision: {test_top_k_precision:.4f}\"\n",
    "        )\n",
    "\n",
    "        if ckpt_path_recall and best_recall < test_top_k_recall:\n",
    "            best_recall = test_top_k_recall\n",
    "            torch.save(train_model.state_dict(), ckpt_path_recall)\n",
    "        if ckpt_path_precision and best_precision < test_top_k_precision:\n",
    "            best_precision = test_top_k_precision\n",
    "            torch.save(train_model.state_dict(), ckpt_path_precision)\n",
    "\n",
    "    return (\n",
    "        loss_list_epoch,\n",
    "        bpr_loss_list_epoch,\n",
    "        reg_loss_list_epoch,\n",
    "        recall_list,\n",
    "        precision_list\n",
    "    )"
   ],
   "metadata": {
    "collapsed": false,
    "ExecuteTime": {
     "end_time": "2023-12-03T13:26:13.061982291Z",
     "start_time": "2023-12-03T13:26:13.016589904Z"
    }
   },
   "id": "ee6dd1eb098c244c"
  },
  {
   "cell_type": "code",
   "execution_count": 21,
   "outputs": [
    {
     "name": "stdout",
     "output_type": "stream",
     "text": [
      "cuda\n",
      "Size of Learnable Embedding: [torch.Size([2625, 64]), torch.Size([64, 21]), torch.Size([64]), torch.Size([64, 18]), torch.Size([64])]\n"
     ]
    }
   ],
   "source": [
    "device = \"cuda\" if torch.cuda.is_available() else \"cpu\"\n",
    "light_gcn = FeaturedRecSysGNN(\n",
    "    latent_dim=64,\n",
    "    n_layers=3,\n",
    "    n_usr=n_users,\n",
    "    n_itm=n_items,\n",
    "    user_features=get_user_features(merged_data, device),\n",
    "    item_features=get_item_features(merged_data, movie_cat_columns, device),\n",
    ")\n",
    "light_gcn.to(device)\n",
    "\n",
    "optimizer = torch.optim.Adam(light_gcn.parameters())\n",
    "print(device)\n",
    "print(\"Size of Learnable Embedding:\", [x.shape for x in list(light_gcn.parameters())])"
   ],
   "metadata": {
    "collapsed": false,
    "ExecuteTime": {
     "end_time": "2023-12-03T13:26:14.709139753Z",
     "start_time": "2023-12-03T13:26:13.016734878Z"
    }
   },
   "id": "75a6db6e9e935719"
  },
  {
   "cell_type": "code",
   "execution_count": 22,
   "outputs": [
    {
     "data": {
      "text/plain": "Epoch 1/10:   0%|          | 0/64 [00:00<?, ?batch/s]",
      "application/vnd.jupyter.widget-view+json": {
       "version_major": 2,
       "version_minor": 0,
       "model_id": "5ca5d2689d884965810e95da32cd974d"
      }
     },
     "metadata": {},
     "output_type": "display_data"
    },
    {
     "name": "stdout",
     "output_type": "stream",
     "text": [
      "Validation, Top K Recall: 0.1837, Top K Precision: 0.1236\n"
     ]
    },
    {
     "data": {
      "text/plain": "Epoch 2/10:   0%|          | 0/64 [00:00<?, ?batch/s]",
      "application/vnd.jupyter.widget-view+json": {
       "version_major": 2,
       "version_minor": 0,
       "model_id": "d615a29736094aff96b00f3b303312d3"
      }
     },
     "metadata": {},
     "output_type": "display_data"
    },
    {
     "name": "stdout",
     "output_type": "stream",
     "text": [
      "Validation, Top K Recall: 0.1839, Top K Precision: 0.1212\n"
     ]
    },
    {
     "data": {
      "text/plain": "Epoch 3/10:   0%|          | 0/64 [00:00<?, ?batch/s]",
      "application/vnd.jupyter.widget-view+json": {
       "version_major": 2,
       "version_minor": 0,
       "model_id": "4af376ef0c1c409a90073b3d7b3eba88"
      }
     },
     "metadata": {},
     "output_type": "display_data"
    },
    {
     "name": "stdout",
     "output_type": "stream",
     "text": [
      "Validation, Top K Recall: 0.1868, Top K Precision: 0.1214\n"
     ]
    },
    {
     "data": {
      "text/plain": "Epoch 4/10:   0%|          | 0/64 [00:00<?, ?batch/s]",
      "application/vnd.jupyter.widget-view+json": {
       "version_major": 2,
       "version_minor": 0,
       "model_id": "e8793216ba864827b4fc88f14d59fe30"
      }
     },
     "metadata": {},
     "output_type": "display_data"
    },
    {
     "name": "stdout",
     "output_type": "stream",
     "text": [
      "Validation, Top K Recall: 0.1911, Top K Precision: 0.1243\n"
     ]
    },
    {
     "data": {
      "text/plain": "Epoch 5/10:   0%|          | 0/64 [00:00<?, ?batch/s]",
      "application/vnd.jupyter.widget-view+json": {
       "version_major": 2,
       "version_minor": 0,
       "model_id": "9f9de5257c17419cb8d11f0fbb0eac5b"
      }
     },
     "metadata": {},
     "output_type": "display_data"
    },
    {
     "name": "stdout",
     "output_type": "stream",
     "text": [
      "Validation, Top K Recall: 0.2008, Top K Precision: 0.1310\n"
     ]
    },
    {
     "data": {
      "text/plain": "Epoch 6/10:   0%|          | 0/64 [00:00<?, ?batch/s]",
      "application/vnd.jupyter.widget-view+json": {
       "version_major": 2,
       "version_minor": 0,
       "model_id": "bd18860102ce4d5ab25dca9207b44aaa"
      }
     },
     "metadata": {},
     "output_type": "display_data"
    },
    {
     "name": "stdout",
     "output_type": "stream",
     "text": [
      "Validation, Top K Recall: 0.2146, Top K Precision: 0.1424\n"
     ]
    },
    {
     "data": {
      "text/plain": "Epoch 7/10:   0%|          | 0/64 [00:00<?, ?batch/s]",
      "application/vnd.jupyter.widget-view+json": {
       "version_major": 2,
       "version_minor": 0,
       "model_id": "7babcccfe3434a4487648440c99d8797"
      }
     },
     "metadata": {},
     "output_type": "display_data"
    },
    {
     "name": "stdout",
     "output_type": "stream",
     "text": [
      "Validation, Top K Recall: 0.2276, Top K Precision: 0.1527\n"
     ]
    },
    {
     "data": {
      "text/plain": "Epoch 8/10:   0%|          | 0/64 [00:00<?, ?batch/s]",
      "application/vnd.jupyter.widget-view+json": {
       "version_major": 2,
       "version_minor": 0,
       "model_id": "43e2855a138646b0b3c26a5676333888"
      }
     },
     "metadata": {},
     "output_type": "display_data"
    },
    {
     "name": "stdout",
     "output_type": "stream",
     "text": [
      "Validation, Top K Recall: 0.2411, Top K Precision: 0.1612\n"
     ]
    },
    {
     "data": {
      "text/plain": "Epoch 9/10:   0%|          | 0/64 [00:00<?, ?batch/s]",
      "application/vnd.jupyter.widget-view+json": {
       "version_major": 2,
       "version_minor": 0,
       "model_id": "ec80acee4dda4ee3ad7a3827e89f20bb"
      }
     },
     "metadata": {},
     "output_type": "display_data"
    },
    {
     "name": "stdout",
     "output_type": "stream",
     "text": [
      "Validation, Top K Recall: 0.2526, Top K Precision: 0.1701\n"
     ]
    },
    {
     "data": {
      "text/plain": "Epoch 10/10:   0%|          | 0/64 [00:00<?, ?batch/s]",
      "application/vnd.jupyter.widget-view+json": {
       "version_major": 2,
       "version_minor": 0,
       "model_id": "b101b8d6e6b34eb394e5bf9655e73c83"
      }
     },
     "metadata": {},
     "output_type": "display_data"
    },
    {
     "name": "stdout",
     "output_type": "stream",
     "text": [
      "Validation, Top K Recall: 0.2596, Top K Precision: 0.1782\n"
     ]
    }
   ],
   "source": [
    "light_loss, light_bpr, light_reg, light_recall, light_precision = train_and_eval(\n",
    "    train_model=light_gcn,\n",
    "    optim=optimizer,\n",
    "    train_data=train_df,\n",
    "    test_data=test_df,\n",
    "    epochs=EPOCHS,\n",
    "    n_usr=n_users,\n",
    "    n_itm=n_items,\n",
    "    top_k=K,\n",
    "    dev=device,\n",
    ")"
   ],
   "metadata": {
    "collapsed": false,
    "ExecuteTime": {
     "end_time": "2023-12-03T13:26:48.020851977Z",
     "start_time": "2023-12-03T13:26:14.703526254Z"
    }
   },
   "id": "70d2fd04af4ed1cb"
  },
  {
   "cell_type": "markdown",
   "source": [
    "# Plot history"
   ],
   "metadata": {
    "collapsed": false
   },
   "id": "d06efe62126531ee"
  },
  {
   "cell_type": "code",
   "execution_count": 23,
   "outputs": [
    {
     "data": {
      "text/plain": "<Figure size 1600x400 with 1 Axes>",
      "image/png": "[encoded data removed]"
     },
     "metadata": {},
     "output_type": "display_data"
    },
    {
     "data": {
      "text/plain": "<Figure size 1600x400 with 1 Axes>",
      "image/png": "[encoded data removed]"
     },
     "metadata": {},
     "output_type": "display_data"
    },
    {
     "data": {
      "text/plain": "<Figure size 1600x400 with 1 Axes>",
      "image/png": "[encoded data removed]"
     },
     "metadata": {},
     "output_type": "display_data"
    },
    {
     "data": {
      "text/plain": "<Figure size 1600x400 with 1 Axes>",
      "image/png": "[encoded data removed]"
     },
     "metadata": {},
     "output_type": "display_data"
    },
    {
     "data": {
      "text/plain": "<Figure size 1600x400 with 1 Axes>",
      "image/png": "[encoded data removed]"
     },
     "metadata": {},
     "output_type": "display_data"
    }
   ],
   "source": [
    "def plot_metrics(metrics: list, y_label: str, title: str):\n",
    "    \"\"\"\n",
    "    Plot the training and evaluation metrics over epochs.\n",
    "\n",
    "    Parameters:\n",
    "        metrics (list): The list of metric values to plot.\n",
    "        y_label (str): The label for the y-axis.\n",
    "        title (str): The title of the plot.\n",
    "    \"\"\"\n",
    "    epochs_range = range(1, EPOCHS + 1)\n",
    "\n",
    "    plt.figure(figsize=(16, 4))\n",
    "    plt.title(title)\n",
    "    plt.plot(\n",
    "        epochs_range, \n",
    "        np.array(metrics), \n",
    "        label=y_label,\n",
    "    )\n",
    "    plt.legend(loc=\"best\")\n",
    "    plt.xlabel(\"Epochs\")\n",
    "    plt.xticks(epochs_range)\n",
    "    plt.ylabel(y_label)\n",
    "    plt.show()\n",
    "\n",
    "plot_metrics(light_loss, \"Final Loss\", \"Final loss per epoch\")\n",
    "plot_metrics(light_bpr, \"BPR Loss\", \"BPR loss per epoch\")\n",
    "plot_metrics(light_reg, \"Reg Loss\", \"Reg loss per epoch\")\n",
    "plot_metrics(light_recall, \"Recall\", \"Recall per epoch\")\n",
    "plot_metrics(light_precision, \"Precision\", \"Precision per epoch\")"
   ],
   "metadata": {
    "collapsed": false,
    "ExecuteTime": {
     "end_time": "2023-12-03T13:26:48.790317878Z",
     "start_time": "2023-12-03T13:26:48.020653057Z"
    }
   },
   "id": "a79f6771737923b7"
  }
 ],
 "metadata": {
  "kernelspec": {
   "display_name": "Python 3",
   "language": "python",
   "name": "python3"
  },
  "language_info": {
   "codemirror_mode": {
    "name": "ipython",
    "version": 2
   },
   "file_extension": ".py",
   "mimetype": "text/x-python",
   "name": "python",
   "nbconvert_exporter": "python",
   "pygments_lexer": "ipython2",
   "version": "2.7.6"
  }
 },
 "nbformat": 4,
 "nbformat_minor": 5
}
